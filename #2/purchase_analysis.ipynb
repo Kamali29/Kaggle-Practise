{
 "cells": [
  {
   "cell_type": "markdown",
   "id": "incoming-lightweight",
   "metadata": {},
   "source": [
    "# Analysing frequency of purchase"
   ]
  },
  {
   "cell_type": "markdown",
   "id": "addressed-montana",
   "metadata": {},
   "source": [
    "## Importing the libraries"
   ]
  },
  {
   "cell_type": "code",
   "execution_count": 1,
   "id": "related-ladder",
   "metadata": {},
   "outputs": [],
   "source": [
    "import pandas as pd\n",
    "import numpy as np\n",
    "import matplotlib.pyplot as plt"
   ]
  },
  {
   "cell_type": "markdown",
   "id": "lonely-franklin",
   "metadata": {},
   "source": [
    "## Reading the dataset"
   ]
  },
  {
   "cell_type": "code",
   "execution_count": 2,
   "id": "ecological-government",
   "metadata": {},
   "outputs": [
    {
     "data": {
      "text/html": [
       "<div>\n",
       "<style scoped>\n",
       "    .dataframe tbody tr th:only-of-type {\n",
       "        vertical-align: middle;\n",
       "    }\n",
       "\n",
       "    .dataframe tbody tr th {\n",
       "        vertical-align: top;\n",
       "    }\n",
       "\n",
       "    .dataframe thead th {\n",
       "        text-align: right;\n",
       "    }\n",
       "</style>\n",
       "<table border=\"1\" class=\"dataframe\">\n",
       "  <thead>\n",
       "    <tr style=\"text-align: right;\">\n",
       "      <th></th>\n",
       "      <th>Outlet ID</th>\n",
       "      <th>Brand Name</th>\n",
       "      <th>Sales Value</th>\n",
       "      <th>DATE</th>\n",
       "    </tr>\n",
       "  </thead>\n",
       "  <tbody>\n",
       "    <tr>\n",
       "      <th>0</th>\n",
       "      <td>Outlet 1</td>\n",
       "      <td>Brand 1</td>\n",
       "      <td>395.6906</td>\n",
       "      <td>2018-04-10</td>\n",
       "    </tr>\n",
       "    <tr>\n",
       "      <th>1</th>\n",
       "      <td>Outlet 1</td>\n",
       "      <td>Brand 1</td>\n",
       "      <td>395.6906</td>\n",
       "      <td>2018-04-24</td>\n",
       "    </tr>\n",
       "    <tr>\n",
       "      <th>2</th>\n",
       "      <td>Outlet 1</td>\n",
       "      <td>Brand 2</td>\n",
       "      <td>724.9328</td>\n",
       "      <td>2018-04-10</td>\n",
       "    </tr>\n",
       "    <tr>\n",
       "      <th>3</th>\n",
       "      <td>Outlet 1</td>\n",
       "      <td>Brand 3</td>\n",
       "      <td>150.0466</td>\n",
       "      <td>2018-04-10</td>\n",
       "    </tr>\n",
       "    <tr>\n",
       "      <th>4</th>\n",
       "      <td>Outlet 1</td>\n",
       "      <td>Brand 3</td>\n",
       "      <td>300.0932</td>\n",
       "      <td>2018-04-24</td>\n",
       "    </tr>\n",
       "  </tbody>\n",
       "</table>\n",
       "</div>"
      ],
      "text/plain": [
       "  Outlet ID Brand Name  Sales Value       DATE\n",
       "0  Outlet 1    Brand 1     395.6906 2018-04-10\n",
       "1  Outlet 1    Brand 1     395.6906 2018-04-24\n",
       "2  Outlet 1    Brand 2     724.9328 2018-04-10\n",
       "3  Outlet 1    Brand 3     150.0466 2018-04-10\n",
       "4  Outlet 1    Brand 3     300.0932 2018-04-24"
      ]
     },
     "execution_count": 2,
     "metadata": {},
     "output_type": "execute_result"
    }
   ],
   "source": [
    "df = pd.read_excel(\"Frequency of Purchase Analysis Data Question (2).xlsx\")\n",
    "df.head()"
   ]
  },
  {
   "cell_type": "markdown",
   "id": "downtown-doubt",
   "metadata": {},
   "source": [
    "## Info about data"
   ]
  },
  {
   "cell_type": "code",
   "execution_count": 3,
   "id": "abroad-button",
   "metadata": {},
   "outputs": [
    {
     "name": "stdout",
     "output_type": "stream",
     "text": [
      "<class 'pandas.core.frame.DataFrame'>\n",
      "RangeIndex: 25473 entries, 0 to 25472\n",
      "Data columns (total 4 columns):\n",
      " #   Column       Non-Null Count  Dtype         \n",
      "---  ------       --------------  -----         \n",
      " 0   Outlet ID    25473 non-null  object        \n",
      " 1   Brand Name   25473 non-null  object        \n",
      " 2   Sales Value  25473 non-null  float64       \n",
      " 3   DATE         25473 non-null  datetime64[ns]\n",
      "dtypes: datetime64[ns](1), float64(1), object(2)\n",
      "memory usage: 796.2+ KB\n"
     ]
    }
   ],
   "source": [
    "df.info()"
   ]
  },
  {
   "cell_type": "markdown",
   "id": "equipped-simulation",
   "metadata": {},
   "source": [
    "## Finding the count of outlets"
   ]
  },
  {
   "cell_type": "code",
   "execution_count": 4,
   "id": "blocked-listening",
   "metadata": {},
   "outputs": [
    {
     "data": {
      "text/plain": [
       "Outlet 7321    9\n",
       "Outlet 6009    9\n",
       "Outlet 3445    9\n",
       "Outlet 5835    9\n",
       "Outlet 714     9\n",
       "              ..\n",
       "Outlet 865     1\n",
       "Outlet 798     1\n",
       "Outlet 792     1\n",
       "Outlet 1276    1\n",
       "Outlet 1104    1\n",
       "Name: Outlet ID, Length: 5811, dtype: int64"
      ]
     },
     "execution_count": 4,
     "metadata": {},
     "output_type": "execute_result"
    }
   ],
   "source": [
    "df['Outlet ID'].value_counts()"
   ]
  },
  {
   "cell_type": "markdown",
   "id": "hawaiian-verification",
   "metadata": {},
   "source": [
    "## Finding the average purchase per month/ frequency of purchase"
   ]
  },
  {
   "cell_type": "code",
   "execution_count": 5,
   "id": "appropriate-romantic",
   "metadata": {},
   "outputs": [
    {
     "data": {
      "text/plain": [
       "array([9, 9, 9, ..., 1, 1, 1], dtype=int64)"
      ]
     },
     "execution_count": 5,
     "metadata": {},
     "output_type": "execute_result"
    }
   ],
   "source": [
    "# finding the count of outlets\n",
    "l = df['Outlet ID'].value_counts().values\n",
    "l"
   ]
  },
  {
   "cell_type": "code",
   "execution_count": 6,
   "id": "driving-local",
   "metadata": {},
   "outputs": [
    {
     "data": {
      "text/plain": [
       "5811"
      ]
     },
     "execution_count": 6,
     "metadata": {},
     "output_type": "execute_result"
    }
   ],
   "source": [
    "# number of unique oulets\n",
    "len(l)"
   ]
  },
  {
   "cell_type": "code",
   "execution_count": 7,
   "id": "prime-silence",
   "metadata": {},
   "outputs": [
    {
     "data": {
      "text/plain": [
       "25473"
      ]
     },
     "execution_count": 7,
     "metadata": {},
     "output_type": "execute_result"
    }
   ],
   "source": [
    "# total number of purchase\n",
    "l.sum()"
   ]
  },
  {
   "cell_type": "markdown",
   "id": "renewable-aviation",
   "metadata": {},
   "source": [
    "#### We can get the average purchase per month/ frequency of purchase\n",
    "#### formula = number of orders/ number of unique oulets"
   ]
  },
  {
   "cell_type": "code",
   "execution_count": 8,
   "id": "adaptive-andorra",
   "metadata": {},
   "outputs": [
    {
     "data": {
      "text/plain": [
       "4.383582860092927"
      ]
     },
     "execution_count": 8,
     "metadata": {},
     "output_type": "execute_result"
    }
   ],
   "source": [
    "25473/5811"
   ]
  },
  {
   "cell_type": "markdown",
   "id": "boxed-walker",
   "metadata": {},
   "source": [
    "#### Each outlet purchases 4 times on an average each month"
   ]
  },
  {
   "cell_type": "markdown",
   "id": "bizarre-boston",
   "metadata": {},
   "source": [
    "## Working with outlets"
   ]
  },
  {
   "cell_type": "code",
   "execution_count": 9,
   "id": "collectible-startup",
   "metadata": {},
   "outputs": [
    {
     "data": {
      "text/html": [
       "<div>\n",
       "<style scoped>\n",
       "    .dataframe tbody tr th:only-of-type {\n",
       "        vertical-align: middle;\n",
       "    }\n",
       "\n",
       "    .dataframe tbody tr th {\n",
       "        vertical-align: top;\n",
       "    }\n",
       "\n",
       "    .dataframe thead th {\n",
       "        text-align: right;\n",
       "    }\n",
       "</style>\n",
       "<table border=\"1\" class=\"dataframe\">\n",
       "  <thead>\n",
       "    <tr style=\"text-align: right;\">\n",
       "      <th></th>\n",
       "      <th>Outlet ID</th>\n",
       "    </tr>\n",
       "  </thead>\n",
       "  <tbody>\n",
       "    <tr>\n",
       "      <th>Outlet 7321</th>\n",
       "      <td>9</td>\n",
       "    </tr>\n",
       "    <tr>\n",
       "      <th>Outlet 6009</th>\n",
       "      <td>9</td>\n",
       "    </tr>\n",
       "    <tr>\n",
       "      <th>Outlet 3445</th>\n",
       "      <td>9</td>\n",
       "    </tr>\n",
       "    <tr>\n",
       "      <th>Outlet 5835</th>\n",
       "      <td>9</td>\n",
       "    </tr>\n",
       "    <tr>\n",
       "      <th>Outlet 714</th>\n",
       "      <td>9</td>\n",
       "    </tr>\n",
       "    <tr>\n",
       "      <th>...</th>\n",
       "      <td>...</td>\n",
       "    </tr>\n",
       "    <tr>\n",
       "      <th>Outlet 865</th>\n",
       "      <td>1</td>\n",
       "    </tr>\n",
       "    <tr>\n",
       "      <th>Outlet 798</th>\n",
       "      <td>1</td>\n",
       "    </tr>\n",
       "    <tr>\n",
       "      <th>Outlet 792</th>\n",
       "      <td>1</td>\n",
       "    </tr>\n",
       "    <tr>\n",
       "      <th>Outlet 1276</th>\n",
       "      <td>1</td>\n",
       "    </tr>\n",
       "    <tr>\n",
       "      <th>Outlet 1104</th>\n",
       "      <td>1</td>\n",
       "    </tr>\n",
       "  </tbody>\n",
       "</table>\n",
       "<p>5811 rows × 1 columns</p>\n",
       "</div>"
      ],
      "text/plain": [
       "             Outlet ID\n",
       "Outlet 7321          9\n",
       "Outlet 6009          9\n",
       "Outlet 3445          9\n",
       "Outlet 5835          9\n",
       "Outlet 714           9\n",
       "...                ...\n",
       "Outlet 865           1\n",
       "Outlet 798           1\n",
       "Outlet 792           1\n",
       "Outlet 1276          1\n",
       "Outlet 1104          1\n",
       "\n",
       "[5811 rows x 1 columns]"
      ]
     },
     "execution_count": 9,
     "metadata": {},
     "output_type": "execute_result"
    }
   ],
   "source": [
    "# creating a new dataframe which will contain only the Outlet id and its count\n",
    "l = df['Outlet ID'].value_counts()\n",
    "l1 = pd.DataFrame(l)\n",
    "l1"
   ]
  },
  {
   "cell_type": "code",
   "execution_count": 16,
   "id": "returning-wisconsin",
   "metadata": {},
   "outputs": [],
   "source": [
    "# converting it to excel for ease\n",
    "l1.to_excel('outlet.xlsx')"
   ]
  },
  {
   "cell_type": "code",
   "execution_count": 17,
   "id": "generic-basic",
   "metadata": {},
   "outputs": [
    {
     "data": {
      "text/html": [
       "<div>\n",
       "<style scoped>\n",
       "    .dataframe tbody tr th:only-of-type {\n",
       "        vertical-align: middle;\n",
       "    }\n",
       "\n",
       "    .dataframe tbody tr th {\n",
       "        vertical-align: top;\n",
       "    }\n",
       "\n",
       "    .dataframe thead th {\n",
       "        text-align: right;\n",
       "    }\n",
       "</style>\n",
       "<table border=\"1\" class=\"dataframe\">\n",
       "  <thead>\n",
       "    <tr style=\"text-align: right;\">\n",
       "      <th></th>\n",
       "      <th>Outlet ID</th>\n",
       "      <th>Frequency</th>\n",
       "    </tr>\n",
       "  </thead>\n",
       "  <tbody>\n",
       "    <tr>\n",
       "      <th>0</th>\n",
       "      <td>Outlet 7321</td>\n",
       "      <td>9</td>\n",
       "    </tr>\n",
       "    <tr>\n",
       "      <th>1</th>\n",
       "      <td>Outlet 6009</td>\n",
       "      <td>9</td>\n",
       "    </tr>\n",
       "    <tr>\n",
       "      <th>2</th>\n",
       "      <td>Outlet 3445</td>\n",
       "      <td>9</td>\n",
       "    </tr>\n",
       "    <tr>\n",
       "      <th>3</th>\n",
       "      <td>Outlet 5835</td>\n",
       "      <td>9</td>\n",
       "    </tr>\n",
       "    <tr>\n",
       "      <th>4</th>\n",
       "      <td>Outlet 714</td>\n",
       "      <td>9</td>\n",
       "    </tr>\n",
       "  </tbody>\n",
       "</table>\n",
       "</div>"
      ],
      "text/plain": [
       "     Outlet ID  Frequency\n",
       "0  Outlet 7321          9\n",
       "1  Outlet 6009          9\n",
       "2  Outlet 3445          9\n",
       "3  Outlet 5835          9\n",
       "4   Outlet 714          9"
      ]
     },
     "execution_count": 17,
     "metadata": {},
     "output_type": "execute_result"
    }
   ],
   "source": [
    "# reading that file\n",
    "df_outlet = pd.read_excel('outlet.xlsx')\n",
    "df_outlet.head()"
   ]
  },
  {
   "cell_type": "markdown",
   "id": "ancient-skill",
   "metadata": {},
   "source": [
    "### Outlets purchased less than the average purchase"
   ]
  },
  {
   "cell_type": "code",
   "execution_count": 18,
   "id": "recent-voltage",
   "metadata": {},
   "outputs": [
    {
     "data": {
      "text/html": [
       "<div>\n",
       "<style scoped>\n",
       "    .dataframe tbody tr th:only-of-type {\n",
       "        vertical-align: middle;\n",
       "    }\n",
       "\n",
       "    .dataframe tbody tr th {\n",
       "        vertical-align: top;\n",
       "    }\n",
       "\n",
       "    .dataframe thead th {\n",
       "        text-align: right;\n",
       "    }\n",
       "</style>\n",
       "<table border=\"1\" class=\"dataframe\">\n",
       "  <thead>\n",
       "    <tr style=\"text-align: right;\">\n",
       "      <th></th>\n",
       "      <th>Outlet ID</th>\n",
       "      <th>Frequency</th>\n",
       "    </tr>\n",
       "  </thead>\n",
       "  <tbody>\n",
       "    <tr>\n",
       "      <th>3066</th>\n",
       "      <td>Outlet 1779</td>\n",
       "      <td>3</td>\n",
       "    </tr>\n",
       "    <tr>\n",
       "      <th>3067</th>\n",
       "      <td>Outlet 301</td>\n",
       "      <td>3</td>\n",
       "    </tr>\n",
       "    <tr>\n",
       "      <th>3068</th>\n",
       "      <td>Outlet 6149</td>\n",
       "      <td>3</td>\n",
       "    </tr>\n",
       "    <tr>\n",
       "      <th>3069</th>\n",
       "      <td>Outlet 7249</td>\n",
       "      <td>3</td>\n",
       "    </tr>\n",
       "    <tr>\n",
       "      <th>3070</th>\n",
       "      <td>Outlet 2312</td>\n",
       "      <td>3</td>\n",
       "    </tr>\n",
       "    <tr>\n",
       "      <th>...</th>\n",
       "      <td>...</td>\n",
       "      <td>...</td>\n",
       "    </tr>\n",
       "    <tr>\n",
       "      <th>5806</th>\n",
       "      <td>Outlet 865</td>\n",
       "      <td>1</td>\n",
       "    </tr>\n",
       "    <tr>\n",
       "      <th>5807</th>\n",
       "      <td>Outlet 798</td>\n",
       "      <td>1</td>\n",
       "    </tr>\n",
       "    <tr>\n",
       "      <th>5808</th>\n",
       "      <td>Outlet 792</td>\n",
       "      <td>1</td>\n",
       "    </tr>\n",
       "    <tr>\n",
       "      <th>5809</th>\n",
       "      <td>Outlet 1276</td>\n",
       "      <td>1</td>\n",
       "    </tr>\n",
       "    <tr>\n",
       "      <th>5810</th>\n",
       "      <td>Outlet 1104</td>\n",
       "      <td>1</td>\n",
       "    </tr>\n",
       "  </tbody>\n",
       "</table>\n",
       "<p>2745 rows × 2 columns</p>\n",
       "</div>"
      ],
      "text/plain": [
       "        Outlet ID  Frequency\n",
       "3066  Outlet 1779          3\n",
       "3067   Outlet 301          3\n",
       "3068  Outlet 6149          3\n",
       "3069  Outlet 7249          3\n",
       "3070  Outlet 2312          3\n",
       "...           ...        ...\n",
       "5806   Outlet 865          1\n",
       "5807   Outlet 798          1\n",
       "5808   Outlet 792          1\n",
       "5809  Outlet 1276          1\n",
       "5810  Outlet 1104          1\n",
       "\n",
       "[2745 rows x 2 columns]"
      ]
     },
     "execution_count": 18,
     "metadata": {},
     "output_type": "execute_result"
    }
   ],
   "source": [
    "# outlet less than 4\n",
    "df_outlet[df_outlet['Frequency'] < 4]"
   ]
  },
  {
   "cell_type": "markdown",
   "id": "friendly-cartridge",
   "metadata": {},
   "source": [
    "### Outlets purchased once"
   ]
  },
  {
   "cell_type": "code",
   "execution_count": 19,
   "id": "disturbed-camel",
   "metadata": {},
   "outputs": [
    {
     "data": {
      "text/plain": [
       "818"
      ]
     },
     "execution_count": 19,
     "metadata": {},
     "output_type": "execute_result"
    }
   ],
   "source": [
    "df_outlet[df_outlet.Frequency==1].shape[0]"
   ]
  },
  {
   "cell_type": "markdown",
   "id": "surrounded-anatomy",
   "metadata": {},
   "source": [
    "### Outlets purchased 2times"
   ]
  },
  {
   "cell_type": "code",
   "execution_count": 20,
   "id": "personalized-venue",
   "metadata": {},
   "outputs": [
    {
     "data": {
      "text/plain": [
       "717"
      ]
     },
     "execution_count": 20,
     "metadata": {},
     "output_type": "execute_result"
    }
   ],
   "source": [
    "df_outlet[df_outlet.Frequency==2].shape[0]"
   ]
  },
  {
   "cell_type": "markdown",
   "id": "desperate-monthly",
   "metadata": {},
   "source": [
    "### Outlets purchased 3times"
   ]
  },
  {
   "cell_type": "code",
   "execution_count": 21,
   "id": "palestinian-andrews",
   "metadata": {},
   "outputs": [
    {
     "data": {
      "text/plain": [
       "1210"
      ]
     },
     "execution_count": 21,
     "metadata": {},
     "output_type": "execute_result"
    }
   ],
   "source": [
    "df_outlet[df_outlet.Frequency==3].shape[0]"
   ]
  },
  {
   "cell_type": "markdown",
   "id": "medical-legend",
   "metadata": {},
   "source": [
    "### Outlets purchased 4times"
   ]
  },
  {
   "cell_type": "code",
   "execution_count": 22,
   "id": "friendly-chest",
   "metadata": {},
   "outputs": [
    {
     "data": {
      "text/plain": [
       "744"
      ]
     },
     "execution_count": 22,
     "metadata": {},
     "output_type": "execute_result"
    }
   ],
   "source": [
    "df_outlet[df_outlet.Frequency==4].shape[0]"
   ]
  },
  {
   "cell_type": "markdown",
   "id": "realistic-pharmacology",
   "metadata": {},
   "source": [
    "### Outlets purchased 5times"
   ]
  },
  {
   "cell_type": "code",
   "execution_count": 23,
   "id": "underlying-dealing",
   "metadata": {},
   "outputs": [
    {
     "data": {
      "text/plain": [
       "489"
      ]
     },
     "execution_count": 23,
     "metadata": {},
     "output_type": "execute_result"
    }
   ],
   "source": [
    "df_outlet[df_outlet.Frequency==5].shape[0]"
   ]
  },
  {
   "cell_type": "markdown",
   "id": "brilliant-emphasis",
   "metadata": {},
   "source": [
    "### Outlets purchased 6times"
   ]
  },
  {
   "cell_type": "code",
   "execution_count": 24,
   "id": "genetic-ordering",
   "metadata": {},
   "outputs": [
    {
     "data": {
      "text/plain": [
       "468"
      ]
     },
     "execution_count": 24,
     "metadata": {},
     "output_type": "execute_result"
    }
   ],
   "source": [
    "df_outlet[df_outlet.Frequency==6].shape[0]"
   ]
  },
  {
   "cell_type": "markdown",
   "id": "established-parade",
   "metadata": {},
   "source": [
    "### Outlets purchased 7times"
   ]
  },
  {
   "cell_type": "code",
   "execution_count": 25,
   "id": "alpine-architect",
   "metadata": {},
   "outputs": [
    {
     "data": {
      "text/plain": [
       "344"
      ]
     },
     "execution_count": 25,
     "metadata": {},
     "output_type": "execute_result"
    }
   ],
   "source": [
    "df_outlet[df_outlet.Frequency==7].shape[0]"
   ]
  },
  {
   "cell_type": "markdown",
   "id": "roman-breath",
   "metadata": {},
   "source": [
    "### Outlets purchased 8times"
   ]
  },
  {
   "cell_type": "code",
   "execution_count": 26,
   "id": "institutional-rugby",
   "metadata": {},
   "outputs": [
    {
     "data": {
      "text/plain": [
       "235"
      ]
     },
     "execution_count": 26,
     "metadata": {},
     "output_type": "execute_result"
    }
   ],
   "source": [
    "df_outlet[df_outlet.Frequency==8].shape[0]"
   ]
  },
  {
   "cell_type": "markdown",
   "id": "incredible-butter",
   "metadata": {},
   "source": [
    "### Outlets purchased 9times"
   ]
  },
  {
   "cell_type": "code",
   "execution_count": 27,
   "id": "practical-prime",
   "metadata": {},
   "outputs": [
    {
     "data": {
      "text/plain": [
       "786"
      ]
     },
     "execution_count": 27,
     "metadata": {},
     "output_type": "execute_result"
    }
   ],
   "source": [
    "df_outlet[df_outlet.Frequency==9].shape[0]"
   ]
  },
  {
   "cell_type": "markdown",
   "id": "authorized-crown",
   "metadata": {},
   "source": [
    "#### Now I have created a copy of the dataframe so that I can encode the data to make some visualizations"
   ]
  },
  {
   "cell_type": "code",
   "execution_count": 28,
   "id": "possible-necessity",
   "metadata": {},
   "outputs": [],
   "source": [
    "df1 = df.copy()"
   ]
  },
  {
   "cell_type": "code",
   "execution_count": 29,
   "id": "seven-first",
   "metadata": {},
   "outputs": [],
   "source": [
    "df1['Outlet No'] = np.nan\n",
    "df1['Brand No'] = np.nan"
   ]
  },
  {
   "cell_type": "code",
   "execution_count": 30,
   "id": "appointed-perth",
   "metadata": {},
   "outputs": [
    {
     "data": {
      "text/html": [
       "<div>\n",
       "<style scoped>\n",
       "    .dataframe tbody tr th:only-of-type {\n",
       "        vertical-align: middle;\n",
       "    }\n",
       "\n",
       "    .dataframe tbody tr th {\n",
       "        vertical-align: top;\n",
       "    }\n",
       "\n",
       "    .dataframe thead th {\n",
       "        text-align: right;\n",
       "    }\n",
       "</style>\n",
       "<table border=\"1\" class=\"dataframe\">\n",
       "  <thead>\n",
       "    <tr style=\"text-align: right;\">\n",
       "      <th></th>\n",
       "      <th>Outlet ID</th>\n",
       "      <th>Brand Name</th>\n",
       "      <th>Sales Value</th>\n",
       "      <th>DATE</th>\n",
       "      <th>Outlet No</th>\n",
       "      <th>Brand No</th>\n",
       "    </tr>\n",
       "  </thead>\n",
       "  <tbody>\n",
       "    <tr>\n",
       "      <th>0</th>\n",
       "      <td>Outlet 1</td>\n",
       "      <td>Brand 1</td>\n",
       "      <td>395.6906</td>\n",
       "      <td>2018-04-10</td>\n",
       "      <td>NaN</td>\n",
       "      <td>NaN</td>\n",
       "    </tr>\n",
       "    <tr>\n",
       "      <th>1</th>\n",
       "      <td>Outlet 1</td>\n",
       "      <td>Brand 1</td>\n",
       "      <td>395.6906</td>\n",
       "      <td>2018-04-24</td>\n",
       "      <td>NaN</td>\n",
       "      <td>NaN</td>\n",
       "    </tr>\n",
       "    <tr>\n",
       "      <th>2</th>\n",
       "      <td>Outlet 1</td>\n",
       "      <td>Brand 2</td>\n",
       "      <td>724.9328</td>\n",
       "      <td>2018-04-10</td>\n",
       "      <td>NaN</td>\n",
       "      <td>NaN</td>\n",
       "    </tr>\n",
       "    <tr>\n",
       "      <th>3</th>\n",
       "      <td>Outlet 1</td>\n",
       "      <td>Brand 3</td>\n",
       "      <td>150.0466</td>\n",
       "      <td>2018-04-10</td>\n",
       "      <td>NaN</td>\n",
       "      <td>NaN</td>\n",
       "    </tr>\n",
       "    <tr>\n",
       "      <th>4</th>\n",
       "      <td>Outlet 1</td>\n",
       "      <td>Brand 3</td>\n",
       "      <td>300.0932</td>\n",
       "      <td>2018-04-24</td>\n",
       "      <td>NaN</td>\n",
       "      <td>NaN</td>\n",
       "    </tr>\n",
       "  </tbody>\n",
       "</table>\n",
       "</div>"
      ],
      "text/plain": [
       "  Outlet ID Brand Name  Sales Value       DATE  Outlet No  Brand No\n",
       "0  Outlet 1    Brand 1     395.6906 2018-04-10        NaN       NaN\n",
       "1  Outlet 1    Brand 1     395.6906 2018-04-24        NaN       NaN\n",
       "2  Outlet 1    Brand 2     724.9328 2018-04-10        NaN       NaN\n",
       "3  Outlet 1    Brand 3     150.0466 2018-04-10        NaN       NaN\n",
       "4  Outlet 1    Brand 3     300.0932 2018-04-24        NaN       NaN"
      ]
     },
     "execution_count": 30,
     "metadata": {},
     "output_type": "execute_result"
    }
   ],
   "source": [
    "df1.head()"
   ]
  },
  {
   "cell_type": "code",
   "execution_count": 31,
   "id": "supported-darkness",
   "metadata": {},
   "outputs": [],
   "source": [
    "def fun():\n",
    "    for i in range(df1['Outlet ID'].shape[0]):\n",
    "      val_out = df['Outlet ID'][i].split(\" \")[1]\n",
    "      val_brand= df['Brand Name'][i].split(\" \")[1]\n",
    "      df1['Outlet No'][i] = val_out\n",
    "      df1['Brand No'][i] = val_brand"
   ]
  },
  {
   "cell_type": "code",
   "execution_count": 32,
   "id": "convertible-alignment",
   "metadata": {},
   "outputs": [
    {
     "name": "stderr",
     "output_type": "stream",
     "text": [
      "<ipython-input-31-be5e3b32252e>:5: SettingWithCopyWarning: \n",
      "A value is trying to be set on a copy of a slice from a DataFrame\n",
      "\n",
      "See the caveats in the documentation: https://pandas.pydata.org/pandas-docs/stable/user_guide/indexing.html#returning-a-view-versus-a-copy\n",
      "  df1['Outlet No'][i] = val_out\n",
      "<ipython-input-31-be5e3b32252e>:6: SettingWithCopyWarning: \n",
      "A value is trying to be set on a copy of a slice from a DataFrame\n",
      "\n",
      "See the caveats in the documentation: https://pandas.pydata.org/pandas-docs/stable/user_guide/indexing.html#returning-a-view-versus-a-copy\n",
      "  df1['Brand No'][i] = val_brand\n"
     ]
    }
   ],
   "source": [
    "fun()"
   ]
  },
  {
   "cell_type": "code",
   "execution_count": 33,
   "id": "completed-learning",
   "metadata": {},
   "outputs": [
    {
     "data": {
      "text/html": [
       "<div>\n",
       "<style scoped>\n",
       "    .dataframe tbody tr th:only-of-type {\n",
       "        vertical-align: middle;\n",
       "    }\n",
       "\n",
       "    .dataframe tbody tr th {\n",
       "        vertical-align: top;\n",
       "    }\n",
       "\n",
       "    .dataframe thead th {\n",
       "        text-align: right;\n",
       "    }\n",
       "</style>\n",
       "<table border=\"1\" class=\"dataframe\">\n",
       "  <thead>\n",
       "    <tr style=\"text-align: right;\">\n",
       "      <th></th>\n",
       "      <th>Outlet ID</th>\n",
       "      <th>Brand Name</th>\n",
       "      <th>Sales Value</th>\n",
       "      <th>DATE</th>\n",
       "      <th>Outlet No</th>\n",
       "      <th>Brand No</th>\n",
       "    </tr>\n",
       "  </thead>\n",
       "  <tbody>\n",
       "    <tr>\n",
       "      <th>0</th>\n",
       "      <td>Outlet 1</td>\n",
       "      <td>Brand 1</td>\n",
       "      <td>395.6906</td>\n",
       "      <td>2018-04-10</td>\n",
       "      <td>1.0</td>\n",
       "      <td>1.0</td>\n",
       "    </tr>\n",
       "    <tr>\n",
       "      <th>1</th>\n",
       "      <td>Outlet 1</td>\n",
       "      <td>Brand 1</td>\n",
       "      <td>395.6906</td>\n",
       "      <td>2018-04-24</td>\n",
       "      <td>1.0</td>\n",
       "      <td>1.0</td>\n",
       "    </tr>\n",
       "    <tr>\n",
       "      <th>2</th>\n",
       "      <td>Outlet 1</td>\n",
       "      <td>Brand 2</td>\n",
       "      <td>724.9328</td>\n",
       "      <td>2018-04-10</td>\n",
       "      <td>1.0</td>\n",
       "      <td>2.0</td>\n",
       "    </tr>\n",
       "    <tr>\n",
       "      <th>3</th>\n",
       "      <td>Outlet 1</td>\n",
       "      <td>Brand 3</td>\n",
       "      <td>150.0466</td>\n",
       "      <td>2018-04-10</td>\n",
       "      <td>1.0</td>\n",
       "      <td>3.0</td>\n",
       "    </tr>\n",
       "    <tr>\n",
       "      <th>4</th>\n",
       "      <td>Outlet 1</td>\n",
       "      <td>Brand 3</td>\n",
       "      <td>300.0932</td>\n",
       "      <td>2018-04-24</td>\n",
       "      <td>1.0</td>\n",
       "      <td>3.0</td>\n",
       "    </tr>\n",
       "  </tbody>\n",
       "</table>\n",
       "</div>"
      ],
      "text/plain": [
       "  Outlet ID Brand Name  Sales Value       DATE  Outlet No  Brand No\n",
       "0  Outlet 1    Brand 1     395.6906 2018-04-10        1.0       1.0\n",
       "1  Outlet 1    Brand 1     395.6906 2018-04-24        1.0       1.0\n",
       "2  Outlet 1    Brand 2     724.9328 2018-04-10        1.0       2.0\n",
       "3  Outlet 1    Brand 3     150.0466 2018-04-10        1.0       3.0\n",
       "4  Outlet 1    Brand 3     300.0932 2018-04-24        1.0       3.0"
      ]
     },
     "execution_count": 33,
     "metadata": {},
     "output_type": "execute_result"
    }
   ],
   "source": [
    "df1.head()"
   ]
  },
  {
   "cell_type": "code",
   "execution_count": 35,
   "id": "suited-costa",
   "metadata": {},
   "outputs": [
    {
     "data": {
      "image/png": "[encoded data removed]",
      "text/plain": [
       "<Figure size 720x720 with 1 Axes>"
      ]
     },
     "metadata": {
      "needs_background": "light"
     },
     "output_type": "display_data"
    }
   ],
   "source": [
    "plt.figure(figsize=(10,10))\n",
    "plt.scatter(df1['Outlet No'], df1['Sales Value'], c='#cc33ff')\n",
    "plt.xlabel(\"'Outlet\")\n",
    "plt.ylabel(\"Sales\")\n",
    "plt.title(\"Outlet VS Sales\")\n",
    "plt.show()"
   ]
  },
  {
   "cell_type": "markdown",
   "id": "functioning-formation",
   "metadata": {},
   "source": [
    "### Grouping data based on Outlets"
   ]
  },
  {
   "cell_type": "code",
   "execution_count": 36,
   "id": "mature-organic",
   "metadata": {},
   "outputs": [],
   "source": [
    "grp = df1.groupby('Outlet No')"
   ]
  },
  {
   "cell_type": "code",
   "execution_count": 37,
   "id": "activated-apache",
   "metadata": {},
   "outputs": [
    {
     "data": {
      "text/html": [
       "<div>\n",
       "<style scoped>\n",
       "    .dataframe tbody tr th:only-of-type {\n",
       "        vertical-align: middle;\n",
       "    }\n",
       "\n",
       "    .dataframe tbody tr th {\n",
       "        vertical-align: top;\n",
       "    }\n",
       "\n",
       "    .dataframe thead th {\n",
       "        text-align: right;\n",
       "    }\n",
       "</style>\n",
       "<table border=\"1\" class=\"dataframe\">\n",
       "  <thead>\n",
       "    <tr style=\"text-align: right;\">\n",
       "      <th></th>\n",
       "      <th>Sales Value</th>\n",
       "      <th>Brand No</th>\n",
       "    </tr>\n",
       "    <tr>\n",
       "      <th>Outlet No</th>\n",
       "      <th></th>\n",
       "      <th></th>\n",
       "    </tr>\n",
       "  </thead>\n",
       "  <tbody>\n",
       "    <tr>\n",
       "      <th>1.0</th>\n",
       "      <td>2139.5366</td>\n",
       "      <td>14.0</td>\n",
       "    </tr>\n",
       "    <tr>\n",
       "      <th>2.0</th>\n",
       "      <td>2277.9236</td>\n",
       "      <td>7.0</td>\n",
       "    </tr>\n",
       "    <tr>\n",
       "      <th>3.0</th>\n",
       "      <td>1843.1224</td>\n",
       "      <td>18.0</td>\n",
       "    </tr>\n",
       "    <tr>\n",
       "      <th>4.0</th>\n",
       "      <td>975.4444</td>\n",
       "      <td>7.0</td>\n",
       "    </tr>\n",
       "    <tr>\n",
       "      <th>5.0</th>\n",
       "      <td>1381.1532</td>\n",
       "      <td>18.0</td>\n",
       "    </tr>\n",
       "    <tr>\n",
       "      <th>6.0</th>\n",
       "      <td>2302.1484</td>\n",
       "      <td>3.0</td>\n",
       "    </tr>\n",
       "    <tr>\n",
       "      <th>7.0</th>\n",
       "      <td>766.6470</td>\n",
       "      <td>8.0</td>\n",
       "    </tr>\n",
       "    <tr>\n",
       "      <th>8.0</th>\n",
       "      <td>1250.9166</td>\n",
       "      <td>13.0</td>\n",
       "    </tr>\n",
       "    <tr>\n",
       "      <th>9.0</th>\n",
       "      <td>1499.6170</td>\n",
       "      <td>13.0</td>\n",
       "    </tr>\n",
       "    <tr>\n",
       "      <th>10.0</th>\n",
       "      <td>1786.7488</td>\n",
       "      <td>6.0</td>\n",
       "    </tr>\n",
       "  </tbody>\n",
       "</table>\n",
       "</div>"
      ],
      "text/plain": [
       "           Sales Value  Brand No\n",
       "Outlet No                       \n",
       "1.0          2139.5366      14.0\n",
       "2.0          2277.9236       7.0\n",
       "3.0          1843.1224      18.0\n",
       "4.0           975.4444       7.0\n",
       "5.0          1381.1532      18.0\n",
       "6.0          2302.1484       3.0\n",
       "7.0           766.6470       8.0\n",
       "8.0          1250.9166      13.0\n",
       "9.0          1499.6170      13.0\n",
       "10.0         1786.7488       6.0"
      ]
     },
     "execution_count": 37,
     "metadata": {},
     "output_type": "execute_result"
    }
   ],
   "source": [
    "grp.sum().head(10)"
   ]
  }
 ],
 "metadata": {
  "kernelspec": {
   "display_name": "Python 3",
   "language": "python",
   "name": "python3"
  },
  "language_info": {
   "codemirror_mode": {
    "name": "ipython",
    "version": 3
   },
   "file_extension": ".py",
   "mimetype": "text/x-python",
   "name": "python",
   "nbconvert_exporter": "python",
   "pygments_lexer": "ipython3",
   "version": "3.8.8"
  }
 },
 "nbformat": 4,
 "nbformat_minor": 5
}
